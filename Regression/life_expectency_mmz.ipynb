{
 "cells": [
  {
   "cell_type": "markdown",
   "id": "dfc36087",
   "metadata": {},
   "source": [
    "### Libraries"
   ]
  },
  {
   "cell_type": "code",
   "execution_count": 1,
   "id": "b309debe",
   "metadata": {},
   "outputs": [],
   "source": [
    "# Required libraries\n",
    "import os\n",
    "import kagglehub\n",
    "import pandas as pd\n",
    "import matplotlib.pyplot as plt\n",
    "from sklearn.model_selection import train_test_split\n",
    "from sklearn.preprocessing import StandardScaler\n",
    "from sklearn.linear_model import LinearRegression\n",
    "from sklearn.preprocessing import PolynomialFeatures\n",
    "from sklearn.metrics import mean_absolute_error, mean_squared_error, r2_score"
   ]
  },
  {
   "cell_type": "markdown",
   "id": "9736e647",
   "metadata": {},
   "source": [
    "### Load Data"
   ]
  },
  {
   "cell_type": "code",
   "execution_count": 2,
   "id": "01bed5cf",
   "metadata": {},
   "outputs": [
    {
     "name": "stdout",
     "output_type": "stream",
     "text": [
      "Downloading from https://www.kaggle.com/api/v1/datasets/download/kumarajarshi/life-expectancy-who?dataset_version_number=1...\n"
     ]
    },
    {
     "name": "stderr",
     "output_type": "stream",
     "text": [
      "100%|██████████| 119k/119k [00:00<00:00, 527kB/s]"
     ]
    },
    {
     "name": "stdout",
     "output_type": "stream",
     "text": [
      "Extracting files...\n"
     ]
    },
    {
     "name": "stderr",
     "output_type": "stream",
     "text": [
      "\n"
     ]
    },
    {
     "data": {
      "application/vnd.microsoft.datawrangler.viewer.v0+json": {
       "columns": [
        {
         "name": "index",
         "rawType": "int64",
         "type": "integer"
        },
        {
         "name": "Country",
         "rawType": "object",
         "type": "string"
        },
        {
         "name": "Year",
         "rawType": "int64",
         "type": "integer"
        },
        {
         "name": "Status",
         "rawType": "object",
         "type": "string"
        },
        {
         "name": "Life expectancy ",
         "rawType": "float64",
         "type": "float"
        },
        {
         "name": "Adult Mortality",
         "rawType": "float64",
         "type": "float"
        },
        {
         "name": "infant deaths",
         "rawType": "int64",
         "type": "integer"
        },
        {
         "name": "Alcohol",
         "rawType": "float64",
         "type": "float"
        },
        {
         "name": "percentage expenditure",
         "rawType": "float64",
         "type": "float"
        },
        {
         "name": "Hepatitis B",
         "rawType": "float64",
         "type": "float"
        },
        {
         "name": "Measles ",
         "rawType": "int64",
         "type": "integer"
        },
        {
         "name": " BMI ",
         "rawType": "float64",
         "type": "float"
        },
        {
         "name": "under-five deaths ",
         "rawType": "int64",
         "type": "integer"
        },
        {
         "name": "Polio",
         "rawType": "float64",
         "type": "float"
        },
        {
         "name": "Total expenditure",
         "rawType": "float64",
         "type": "float"
        },
        {
         "name": "Diphtheria ",
         "rawType": "float64",
         "type": "float"
        },
        {
         "name": " HIV/AIDS",
         "rawType": "float64",
         "type": "float"
        },
        {
         "name": "GDP",
         "rawType": "float64",
         "type": "float"
        },
        {
         "name": "Population",
         "rawType": "float64",
         "type": "float"
        },
        {
         "name": " thinness  1-19 years",
         "rawType": "float64",
         "type": "float"
        },
        {
         "name": " thinness 5-9 years",
         "rawType": "float64",
         "type": "float"
        },
        {
         "name": "Income composition of resources",
         "rawType": "float64",
         "type": "float"
        },
        {
         "name": "Schooling",
         "rawType": "float64",
         "type": "float"
        }
       ],
       "ref": "45a5bb9f-7448-4a99-93f3-9c3695ef099a",
       "rows": [
        [
         "0",
         "Afghanistan",
         "2015",
         "Developing",
         "65.0",
         "263.0",
         "62",
         "0.01",
         "71.27962362",
         "65.0",
         "1154",
         "19.1",
         "83",
         "6.0",
         "8.16",
         "65.0",
         "0.1",
         "584.25921",
         "33736494.0",
         "17.2",
         "17.3",
         "0.479",
         "10.1"
        ],
        [
         "1",
         "Afghanistan",
         "2014",
         "Developing",
         "59.9",
         "271.0",
         "64",
         "0.01",
         "73.52358168",
         "62.0",
         "492",
         "18.6",
         "86",
         "58.0",
         "8.18",
         "62.0",
         "0.1",
         "612.696514",
         "327582.0",
         "17.5",
         "17.5",
         "0.476",
         "10.0"
        ],
        [
         "2",
         "Afghanistan",
         "2013",
         "Developing",
         "59.9",
         "268.0",
         "66",
         "0.01",
         "73.21924272",
         "64.0",
         "430",
         "18.1",
         "89",
         "62.0",
         "8.13",
         "64.0",
         "0.1",
         "631.744976",
         "31731688.0",
         "17.7",
         "17.7",
         "0.47",
         "9.9"
        ],
        [
         "3",
         "Afghanistan",
         "2012",
         "Developing",
         "59.5",
         "272.0",
         "69",
         "0.01",
         "78.1842153",
         "67.0",
         "2787",
         "17.6",
         "93",
         "67.0",
         "8.52",
         "67.0",
         "0.1",
         "669.959",
         "3696958.0",
         "17.9",
         "18.0",
         "0.463",
         "9.8"
        ],
        [
         "4",
         "Afghanistan",
         "2011",
         "Developing",
         "59.2",
         "275.0",
         "71",
         "0.01",
         "7.097108703",
         "68.0",
         "3013",
         "17.2",
         "97",
         "68.0",
         "7.87",
         "68.0",
         "0.1",
         "63.537231",
         "2978599.0",
         "18.2",
         "18.2",
         "0.454",
         "9.5"
        ]
       ],
       "shape": {
        "columns": 22,
        "rows": 5
       }
      },
      "text/html": [
       "<div>\n",
       "<style scoped>\n",
       "    .dataframe tbody tr th:only-of-type {\n",
       "        vertical-align: middle;\n",
       "    }\n",
       "\n",
       "    .dataframe tbody tr th {\n",
       "        vertical-align: top;\n",
       "    }\n",
       "\n",
       "    .dataframe thead th {\n",
       "        text-align: right;\n",
       "    }\n",
       "</style>\n",
       "<table border=\"1\" class=\"dataframe\">\n",
       "  <thead>\n",
       "    <tr style=\"text-align: right;\">\n",
       "      <th></th>\n",
       "      <th>Country</th>\n",
       "      <th>Year</th>\n",
       "      <th>Status</th>\n",
       "      <th>Life expectancy</th>\n",
       "      <th>Adult Mortality</th>\n",
       "      <th>infant deaths</th>\n",
       "      <th>Alcohol</th>\n",
       "      <th>percentage expenditure</th>\n",
       "      <th>Hepatitis B</th>\n",
       "      <th>Measles</th>\n",
       "      <th>...</th>\n",
       "      <th>Polio</th>\n",
       "      <th>Total expenditure</th>\n",
       "      <th>Diphtheria</th>\n",
       "      <th>HIV/AIDS</th>\n",
       "      <th>GDP</th>\n",
       "      <th>Population</th>\n",
       "      <th>thinness  1-19 years</th>\n",
       "      <th>thinness 5-9 years</th>\n",
       "      <th>Income composition of resources</th>\n",
       "      <th>Schooling</th>\n",
       "    </tr>\n",
       "  </thead>\n",
       "  <tbody>\n",
       "    <tr>\n",
       "      <th>0</th>\n",
       "      <td>Afghanistan</td>\n",
       "      <td>2015</td>\n",
       "      <td>Developing</td>\n",
       "      <td>65.0</td>\n",
       "      <td>263.0</td>\n",
       "      <td>62</td>\n",
       "      <td>0.01</td>\n",
       "      <td>71.279624</td>\n",
       "      <td>65.0</td>\n",
       "      <td>1154</td>\n",
       "      <td>...</td>\n",
       "      <td>6.0</td>\n",
       "      <td>8.16</td>\n",
       "      <td>65.0</td>\n",
       "      <td>0.1</td>\n",
       "      <td>584.259210</td>\n",
       "      <td>33736494.0</td>\n",
       "      <td>17.2</td>\n",
       "      <td>17.3</td>\n",
       "      <td>0.479</td>\n",
       "      <td>10.1</td>\n",
       "    </tr>\n",
       "    <tr>\n",
       "      <th>1</th>\n",
       "      <td>Afghanistan</td>\n",
       "      <td>2014</td>\n",
       "      <td>Developing</td>\n",
       "      <td>59.9</td>\n",
       "      <td>271.0</td>\n",
       "      <td>64</td>\n",
       "      <td>0.01</td>\n",
       "      <td>73.523582</td>\n",
       "      <td>62.0</td>\n",
       "      <td>492</td>\n",
       "      <td>...</td>\n",
       "      <td>58.0</td>\n",
       "      <td>8.18</td>\n",
       "      <td>62.0</td>\n",
       "      <td>0.1</td>\n",
       "      <td>612.696514</td>\n",
       "      <td>327582.0</td>\n",
       "      <td>17.5</td>\n",
       "      <td>17.5</td>\n",
       "      <td>0.476</td>\n",
       "      <td>10.0</td>\n",
       "    </tr>\n",
       "    <tr>\n",
       "      <th>2</th>\n",
       "      <td>Afghanistan</td>\n",
       "      <td>2013</td>\n",
       "      <td>Developing</td>\n",
       "      <td>59.9</td>\n",
       "      <td>268.0</td>\n",
       "      <td>66</td>\n",
       "      <td>0.01</td>\n",
       "      <td>73.219243</td>\n",
       "      <td>64.0</td>\n",
       "      <td>430</td>\n",
       "      <td>...</td>\n",
       "      <td>62.0</td>\n",
       "      <td>8.13</td>\n",
       "      <td>64.0</td>\n",
       "      <td>0.1</td>\n",
       "      <td>631.744976</td>\n",
       "      <td>31731688.0</td>\n",
       "      <td>17.7</td>\n",
       "      <td>17.7</td>\n",
       "      <td>0.470</td>\n",
       "      <td>9.9</td>\n",
       "    </tr>\n",
       "    <tr>\n",
       "      <th>3</th>\n",
       "      <td>Afghanistan</td>\n",
       "      <td>2012</td>\n",
       "      <td>Developing</td>\n",
       "      <td>59.5</td>\n",
       "      <td>272.0</td>\n",
       "      <td>69</td>\n",
       "      <td>0.01</td>\n",
       "      <td>78.184215</td>\n",
       "      <td>67.0</td>\n",
       "      <td>2787</td>\n",
       "      <td>...</td>\n",
       "      <td>67.0</td>\n",
       "      <td>8.52</td>\n",
       "      <td>67.0</td>\n",
       "      <td>0.1</td>\n",
       "      <td>669.959000</td>\n",
       "      <td>3696958.0</td>\n",
       "      <td>17.9</td>\n",
       "      <td>18.0</td>\n",
       "      <td>0.463</td>\n",
       "      <td>9.8</td>\n",
       "    </tr>\n",
       "    <tr>\n",
       "      <th>4</th>\n",
       "      <td>Afghanistan</td>\n",
       "      <td>2011</td>\n",
       "      <td>Developing</td>\n",
       "      <td>59.2</td>\n",
       "      <td>275.0</td>\n",
       "      <td>71</td>\n",
       "      <td>0.01</td>\n",
       "      <td>7.097109</td>\n",
       "      <td>68.0</td>\n",
       "      <td>3013</td>\n",
       "      <td>...</td>\n",
       "      <td>68.0</td>\n",
       "      <td>7.87</td>\n",
       "      <td>68.0</td>\n",
       "      <td>0.1</td>\n",
       "      <td>63.537231</td>\n",
       "      <td>2978599.0</td>\n",
       "      <td>18.2</td>\n",
       "      <td>18.2</td>\n",
       "      <td>0.454</td>\n",
       "      <td>9.5</td>\n",
       "    </tr>\n",
       "  </tbody>\n",
       "</table>\n",
       "<p>5 rows × 22 columns</p>\n",
       "</div>"
      ],
      "text/plain": [
       "       Country  Year      Status  Life expectancy   Adult Mortality  \\\n",
       "0  Afghanistan  2015  Developing              65.0            263.0   \n",
       "1  Afghanistan  2014  Developing              59.9            271.0   \n",
       "2  Afghanistan  2013  Developing              59.9            268.0   \n",
       "3  Afghanistan  2012  Developing              59.5            272.0   \n",
       "4  Afghanistan  2011  Developing              59.2            275.0   \n",
       "\n",
       "   infant deaths  Alcohol  percentage expenditure  Hepatitis B  Measles   ...  \\\n",
       "0             62     0.01               71.279624         65.0      1154  ...   \n",
       "1             64     0.01               73.523582         62.0       492  ...   \n",
       "2             66     0.01               73.219243         64.0       430  ...   \n",
       "3             69     0.01               78.184215         67.0      2787  ...   \n",
       "4             71     0.01                7.097109         68.0      3013  ...   \n",
       "\n",
       "   Polio  Total expenditure  Diphtheria    HIV/AIDS         GDP  Population  \\\n",
       "0    6.0               8.16         65.0        0.1  584.259210  33736494.0   \n",
       "1   58.0               8.18         62.0        0.1  612.696514    327582.0   \n",
       "2   62.0               8.13         64.0        0.1  631.744976  31731688.0   \n",
       "3   67.0               8.52         67.0        0.1  669.959000   3696958.0   \n",
       "4   68.0               7.87         68.0        0.1   63.537231   2978599.0   \n",
       "\n",
       "    thinness  1-19 years   thinness 5-9 years  \\\n",
       "0                   17.2                 17.3   \n",
       "1                   17.5                 17.5   \n",
       "2                   17.7                 17.7   \n",
       "3                   17.9                 18.0   \n",
       "4                   18.2                 18.2   \n",
       "\n",
       "   Income composition of resources  Schooling  \n",
       "0                            0.479       10.1  \n",
       "1                            0.476       10.0  \n",
       "2                            0.470        9.9  \n",
       "3                            0.463        9.8  \n",
       "4                            0.454        9.5  \n",
       "\n",
       "[5 rows x 22 columns]"
      ]
     },
     "execution_count": 2,
     "metadata": {},
     "output_type": "execute_result"
    }
   ],
   "source": [
    "# Load the dataset\n",
    "path = kagglehub.dataset_download(\"kumarajarshi/life-expectancy-who\")\n",
    "filepath = os.path.join(path, \"Life Expectancy Data.csv\")\n",
    "df = pd.read_csv(filepath, low_memory=False)\n",
    "df.head()"
   ]
  },
  {
   "cell_type": "markdown",
   "id": "81f0d2e1",
   "metadata": {},
   "source": [
    "### Data Cleaning"
   ]
  },
  {
   "cell_type": "code",
   "execution_count": 3,
   "id": "4ffc122a",
   "metadata": {},
   "outputs": [
    {
     "name": "stdout",
     "output_type": "stream",
     "text": [
      "<class 'pandas.core.frame.DataFrame'>\n",
      "RangeIndex: 2938 entries, 0 to 2937\n",
      "Data columns (total 22 columns):\n",
      " #   Column                           Non-Null Count  Dtype  \n",
      "---  ------                           --------------  -----  \n",
      " 0   Country                          2938 non-null   object \n",
      " 1   Year                             2938 non-null   int64  \n",
      " 2   Status                           2938 non-null   object \n",
      " 3   Life expectancy                  2928 non-null   float64\n",
      " 4   Adult Mortality                  2928 non-null   float64\n",
      " 5   infant deaths                    2938 non-null   int64  \n",
      " 6   Alcohol                          2744 non-null   float64\n",
      " 7   percentage expenditure           2938 non-null   float64\n",
      " 8   Hepatitis B                      2385 non-null   float64\n",
      " 9   Measles                          2938 non-null   int64  \n",
      " 10   BMI                             2904 non-null   float64\n",
      " 11  under-five deaths                2938 non-null   int64  \n",
      " 12  Polio                            2919 non-null   float64\n",
      " 13  Total expenditure                2712 non-null   float64\n",
      " 14  Diphtheria                       2919 non-null   float64\n",
      " 15   HIV/AIDS                        2938 non-null   float64\n",
      " 16  GDP                              2490 non-null   float64\n",
      " 17  Population                       2286 non-null   float64\n",
      " 18   thinness  1-19 years            2904 non-null   float64\n",
      " 19   thinness 5-9 years              2904 non-null   float64\n",
      " 20  Income composition of resources  2771 non-null   float64\n",
      " 21  Schooling                        2775 non-null   float64\n",
      "dtypes: float64(16), int64(4), object(2)\n",
      "memory usage: 505.1+ KB\n"
     ]
    }
   ],
   "source": [
    "# Check data types and null values\n",
    "df.info()"
   ]
  },
  {
   "cell_type": "code",
   "execution_count": 4,
   "id": "9f6b3ef5",
   "metadata": {},
   "outputs": [],
   "source": [
    "# Drop unnecessary columns\n",
    "df.drop(columns=['Country', 'Status','Year'], inplace=True)\n",
    "\n",
    "# Handle missing values by filling with the mean\n",
    "df.fillna(df.mean(), inplace=True)"
   ]
  },
  {
   "cell_type": "code",
   "execution_count": 5,
   "id": "817bd4b8",
   "metadata": {},
   "outputs": [
    {
     "name": "stdout",
     "output_type": "stream",
     "text": [
      "Missing values in each column:\n",
      " Life expectancy                    0\n",
      "Adult Mortality                    0\n",
      "infant deaths                      0\n",
      "Alcohol                            0\n",
      "percentage expenditure             0\n",
      "Hepatitis B                        0\n",
      "Measles                            0\n",
      " BMI                               0\n",
      "under-five deaths                  0\n",
      "Polio                              0\n",
      "Total expenditure                  0\n",
      "Diphtheria                         0\n",
      " HIV/AIDS                          0\n",
      "GDP                                0\n",
      "Population                         0\n",
      " thinness  1-19 years              0\n",
      " thinness 5-9 years                0\n",
      "Income composition of resources    0\n",
      "Schooling                          0\n",
      "dtype: int64\n"
     ]
    }
   ],
   "source": [
    "missing_values = df.isnull().sum()\n",
    "print(\"Missing values in each column:\\n\", missing_values)"
   ]
  },
  {
   "cell_type": "markdown",
   "id": "805c7858",
   "metadata": {},
   "source": [
    "### Data Preprocessing"
   ]
  },
  {
   "cell_type": "code",
   "execution_count": 6,
   "id": "a162fdc4",
   "metadata": {},
   "outputs": [],
   "source": [
    "X = df.drop(columns=['Life expectancy '])\n",
    "y = df['Life expectancy '].values\n",
    "\n",
    "scaler = StandardScaler()\n",
    "X_scaled = scaler.fit_transform(X)\n",
    "\n",
    "# Splitting the dataset into training and testing sets\n",
    "X_train, X_test, y_train, y_test = train_test_split(X_scaled, y, test_size=0.2, random_state=36)"
   ]
  },
  {
   "cell_type": "markdown",
   "id": "025cd4c4",
   "metadata": {},
   "source": [
    "#### Linear Regression"
   ]
  },
  {
   "cell_type": "code",
   "execution_count": 7,
   "id": "5a0a2999",
   "metadata": {},
   "outputs": [
    {
     "name": "stdout",
     "output_type": "stream",
     "text": [
      "Linear Regression - Mean Absolute Error: 3.071310366802024\n",
      "Linear Regression - Mean Squared Error: 16.570754718340453\n",
      "Linear Regression - R^2 Score: 0.8165392108101811\n"
     ]
    }
   ],
   "source": [
    "# Model Training\n",
    "model = LinearRegression()\n",
    "model.fit(X_train, y_train)\n",
    "\n",
    "# Model Prediction\n",
    "y_pred = model.predict(X_test)\n",
    "\n",
    "# Model Evaluation\n",
    "mae = mean_absolute_error(y_test, y_pred)\n",
    "mse = mean_squared_error(y_test, y_pred)\n",
    "r2 = r2_score(y_test, y_pred)\n",
    "print(f\"Linear Regression - Mean Absolute Error: {mae}\")\n",
    "print(f\"Linear Regression - Mean Squared Error: {mse}\")\n",
    "print(f\"Linear Regression - R^2 Score: {r2}\")"
   ]
  },
  {
   "cell_type": "code",
   "execution_count": 8,
   "id": "4807a06c",
   "metadata": {},
   "outputs": [
    {
     "data": {
      "image/png": "[encoded data removed]",
      "text/plain": [
       "<Figure size 1000x600 with 1 Axes>"
      ]
     },
     "metadata": {},
     "output_type": "display_data"
    }
   ],
   "source": [
    "# Visualizing the results\n",
    "plt.figure(figsize=(10, 6))\n",
    "plt.scatter(y_test, y_pred, color='blue', label='Predicted vs Actual')\n",
    "plt.plot([y.min(), y.max()], [y.min(), y.max()], color='red', lw=2, label='Ideal Prediction')\n",
    "plt.xlabel('Actual Values')\n",
    "plt.ylabel('Predicted Values')\n",
    "plt.title('Actual vs Predicted Values')\n",
    "plt.legend()\n",
    "plt.show()"
   ]
  },
  {
   "cell_type": "markdown",
   "id": "a95f93f9",
   "metadata": {},
   "source": [
    "### Polynomial Regression"
   ]
  },
  {
   "cell_type": "code",
   "execution_count": 9,
   "id": "797a24cd",
   "metadata": {},
   "outputs": [
    {
     "name": "stdout",
     "output_type": "stream",
     "text": [
      "Polynomial Regression - Mean Absolute Error: 2.0326493354496784\n",
      "Polynomial Regression - Mean Squared Error: 8.872271082027392\n",
      "Polynomial Regression - R^2 Score: 0.8975905497305768\n"
     ]
    }
   ],
   "source": [
    "# Model Training\n",
    "poly = PolynomialFeatures(degree=2)\n",
    "X_poly = poly.fit_transform(X_scaled)\n",
    "X_train_poly, X_test_poly, y_train_poly, y_test_poly = train_test_split(X_poly, y, test_size=0.2, random_state=42)\n",
    "poly_model = LinearRegression()\n",
    "poly_model.fit(X_train_poly, y_train_poly)\n",
    "\n",
    "# Model Prediction\n",
    "y_pred_poly = poly_model.predict(X_test_poly)\n",
    "\n",
    "# Model Evaluation for Polynomial Regression\n",
    "mae_poly = mean_absolute_error(y_test_poly, y_pred_poly)\n",
    "mse_poly = mean_squared_error(y_test_poly, y_pred_poly)\n",
    "r2_poly = r2_score(y_test_poly, y_pred_poly)\n",
    "print(f\"Polynomial Regression - Mean Absolute Error: {mae_poly}\")\n",
    "print(f\"Polynomial Regression - Mean Squared Error: {mse_poly}\")\n",
    "print(f\"Polynomial Regression - R^2 Score: {r2_poly}\")"
   ]
  },
  {
   "cell_type": "code",
   "execution_count": 10,
   "id": "774d7634",
   "metadata": {},
   "outputs": [
    {
     "data": {
      "image/png": "[encoded data removed]",
      "text/plain": [
       "<Figure size 1000x600 with 1 Axes>"
      ]
     },
     "metadata": {},
     "output_type": "display_data"
    }
   ],
   "source": [
    "# Visualizing the polynomial regression results\n",
    "plt.figure(figsize=(10, 6))\n",
    "plt.scatter(y_test_poly, y_pred_poly, color='blue', label='Predicted vs Actual (Polynomial)')\n",
    "plt.plot([y.min(), y.max()], [y.min(), y.max()], color='red', lw=2, label='Ideal Prediction')\n",
    "plt.xlabel('Actual Values')\n",
    "plt.ylabel('Predicted Values (Polynomial)')\n",
    "plt.title('Actual vs Predicted Values (Polynomial Regression)')\n",
    "plt.legend()\n",
    "plt.show()"
   ]
  },
  {
   "cell_type": "code",
   "execution_count": 11,
   "id": "a0c10f64",
   "metadata": {},
   "outputs": [
    {
     "data": {
      "application/vnd.microsoft.datawrangler.viewer.v0+json": {
       "columns": [
        {
         "name": "index",
         "rawType": "int64",
         "type": "integer"
        },
        {
         "name": "Actual",
         "rawType": "float64",
         "type": "float"
        },
        {
         "name": "Predicted (Linear)",
         "rawType": "float64",
         "type": "float"
        },
        {
         "name": "Predicted (Polynomial)",
         "rawType": "float64",
         "type": "float"
        }
       ],
       "ref": "8e34f7bf-27a9-4e5c-b307-41c32e03e387",
       "rows": [
        [
         "0",
         "82.1",
         "78.59967332365115",
         "71.53252100958412"
        ],
        [
         "1",
         "48.0",
         "53.395531948783166",
         "77.3828833923958"
        ],
        [
         "2",
         "73.6",
         "67.83498832601732",
         "75.24280162003726"
        ],
        [
         "3",
         "81.8",
         "80.81775326518701",
         "78.02192620091772"
        ],
        [
         "4",
         "73.2",
         "69.19092646336948",
         "55.47138501371874"
        ],
        [
         "5",
         "73.7",
         "74.5434685430192",
         "53.06273129764506"
        ],
        [
         "6",
         "58.4",
         "53.743018405225186",
         "67.96223458131702"
        ],
        [
         "7",
         "69.2",
         "66.05169786865791",
         "73.69400202885578"
        ],
        [
         "8",
         "68.5",
         "70.01201095986387",
         "75.089770337245"
        ],
        [
         "9",
         "71.5",
         "69.72263391500617",
         "52.45995452675679"
        ],
        [
         "10",
         "76.2",
         "78.44575495173048",
         "51.77129047254456"
        ],
        [
         "11",
         "82.1",
         "81.58214095101903",
         "54.97903881028874"
        ],
        [
         "12",
         "63.8",
         "63.90187763813408",
         "58.13882862464097"
        ],
        [
         "13",
         "73.0",
         "67.87071073245487",
         "71.71718728539032"
        ],
        [
         "14",
         "83.0",
         "77.94086733673589",
         "71.3360261082115"
        ],
        [
         "15",
         "64.8",
         "67.82879868825209",
         "62.58266110391536"
        ],
        [
         "16",
         "68.3",
         "65.53744988426027",
         "50.838241065073845"
        ],
        [
         "17",
         "58.3",
         "63.70166449378786",
         "78.27838147951876"
        ],
        [
         "18",
         "52.3",
         "64.7740131198309",
         "69.2443879443268"
        ],
        [
         "19",
         "73.7",
         "71.46639324646291",
         "83.07905759007659"
        ],
        [
         "20",
         "82.0",
         "76.08619095628751",
         "82.01152213271777"
        ],
        [
         "21",
         "78.1",
         "80.22771368097102",
         "83.37680992548641"
        ],
        [
         "22",
         "61.6",
         "62.92851044292811",
         "71.8738515228833"
        ],
        [
         "23",
         "61.2",
         "61.90774977489902",
         "69.98201727597164"
        ],
        [
         "24",
         "70.0",
         "74.92578662819614",
         "72.68894946326506"
        ],
        [
         "25",
         "67.1",
         "70.46108772387309",
         "68.38019150561948"
        ],
        [
         "26",
         "73.5",
         "72.2482757386397",
         "54.218097675022385"
        ],
        [
         "27",
         "66.4",
         "64.80739119687173",
         "66.29202522098738"
        ],
        [
         "28",
         "72.7",
         "73.88153039563356",
         "85.4003579643587"
        ],
        [
         "29",
         "52.6",
         "54.71827798939374",
         "73.24376026937587"
        ],
        [
         "30",
         "52.7",
         "53.53376665372076",
         "67.84932644732876"
        ],
        [
         "31",
         "59.6",
         "62.21790948741078",
         "75.36244272476179"
        ],
        [
         "32",
         "52.0",
         "62.55958859094311",
         "71.53698619221198"
        ],
        [
         "33",
         "73.6",
         "75.06483468441654",
         "69.57024026835805"
        ],
        [
         "34",
         "72.7",
         "71.13293486002495",
         "79.65149677143839"
        ],
        [
         "35",
         "62.9",
         "58.51906061539488",
         "51.798208957062684"
        ],
        [
         "36",
         "81.3",
         "84.27225239470869",
         "61.132450377293395"
        ],
        [
         "37",
         "69.4",
         "69.48567780810319",
         "71.54964915085945"
        ],
        [
         "38",
         "80.0",
         "78.86710970603036",
         "65.58831258042085"
        ],
        [
         "39",
         "74.8",
         "73.98891895733169",
         "74.8168476815593"
        ],
        [
         "40",
         "82.0",
         "85.73915593932543",
         "55.4683013447447"
        ],
        [
         "41",
         "64.6",
         "65.53178427334123",
         "60.782844722489685"
        ],
        [
         "42",
         "68.2",
         "72.85987814284286",
         "76.30487803370883"
        ],
        [
         "43",
         "69.9",
         "65.89864335008541",
         "81.76818909244786"
        ],
        [
         "44",
         "81.1",
         "80.03867921334732",
         "76.78995404717072"
        ],
        [
         "45",
         "69.6",
         "71.68859579565606",
         "48.94852039736826"
        ],
        [
         "46",
         "58.1",
         "57.6664620715392",
         "80.60936935236995"
        ],
        [
         "47",
         "62.0",
         "63.298017498569266",
         "70.99785035091305"
        ],
        [
         "48",
         "61.0",
         "66.06028125840497",
         "59.267699527621765"
        ],
        [
         "49",
         "62.0",
         "61.359602512397736",
         "74.51096449817642"
        ]
       ],
       "shape": {
        "columns": 3,
        "rows": 588
       }
      },
      "text/html": [
       "<div>\n",
       "<style scoped>\n",
       "    .dataframe tbody tr th:only-of-type {\n",
       "        vertical-align: middle;\n",
       "    }\n",
       "\n",
       "    .dataframe tbody tr th {\n",
       "        vertical-align: top;\n",
       "    }\n",
       "\n",
       "    .dataframe thead th {\n",
       "        text-align: right;\n",
       "    }\n",
       "</style>\n",
       "<table border=\"1\" class=\"dataframe\">\n",
       "  <thead>\n",
       "    <tr style=\"text-align: right;\">\n",
       "      <th></th>\n",
       "      <th>Actual</th>\n",
       "      <th>Predicted (Linear)</th>\n",
       "      <th>Predicted (Polynomial)</th>\n",
       "    </tr>\n",
       "  </thead>\n",
       "  <tbody>\n",
       "    <tr>\n",
       "      <th>0</th>\n",
       "      <td>82.1</td>\n",
       "      <td>78.599673</td>\n",
       "      <td>71.532521</td>\n",
       "    </tr>\n",
       "    <tr>\n",
       "      <th>1</th>\n",
       "      <td>48.0</td>\n",
       "      <td>53.395532</td>\n",
       "      <td>77.382883</td>\n",
       "    </tr>\n",
       "    <tr>\n",
       "      <th>2</th>\n",
       "      <td>73.6</td>\n",
       "      <td>67.834988</td>\n",
       "      <td>75.242802</td>\n",
       "    </tr>\n",
       "    <tr>\n",
       "      <th>3</th>\n",
       "      <td>81.8</td>\n",
       "      <td>80.817753</td>\n",
       "      <td>78.021926</td>\n",
       "    </tr>\n",
       "    <tr>\n",
       "      <th>4</th>\n",
       "      <td>73.2</td>\n",
       "      <td>69.190926</td>\n",
       "      <td>55.471385</td>\n",
       "    </tr>\n",
       "    <tr>\n",
       "      <th>...</th>\n",
       "      <td>...</td>\n",
       "      <td>...</td>\n",
       "      <td>...</td>\n",
       "    </tr>\n",
       "    <tr>\n",
       "      <th>583</th>\n",
       "      <td>68.6</td>\n",
       "      <td>70.148789</td>\n",
       "      <td>59.505590</td>\n",
       "    </tr>\n",
       "    <tr>\n",
       "      <th>584</th>\n",
       "      <td>79.5</td>\n",
       "      <td>79.309840</td>\n",
       "      <td>74.030204</td>\n",
       "    </tr>\n",
       "    <tr>\n",
       "      <th>585</th>\n",
       "      <td>68.9</td>\n",
       "      <td>73.558775</td>\n",
       "      <td>63.274768</td>\n",
       "    </tr>\n",
       "    <tr>\n",
       "      <th>586</th>\n",
       "      <td>72.3</td>\n",
       "      <td>74.456295</td>\n",
       "      <td>71.538864</td>\n",
       "    </tr>\n",
       "    <tr>\n",
       "      <th>587</th>\n",
       "      <td>74.2</td>\n",
       "      <td>72.354661</td>\n",
       "      <td>73.902582</td>\n",
       "    </tr>\n",
       "  </tbody>\n",
       "</table>\n",
       "<p>588 rows × 3 columns</p>\n",
       "</div>"
      ],
      "text/plain": [
       "     Actual  Predicted (Linear)  Predicted (Polynomial)\n",
       "0      82.1           78.599673               71.532521\n",
       "1      48.0           53.395532               77.382883\n",
       "2      73.6           67.834988               75.242802\n",
       "3      81.8           80.817753               78.021926\n",
       "4      73.2           69.190926               55.471385\n",
       "..      ...                 ...                     ...\n",
       "583    68.6           70.148789               59.505590\n",
       "584    79.5           79.309840               74.030204\n",
       "585    68.9           73.558775               63.274768\n",
       "586    72.3           74.456295               71.538864\n",
       "587    74.2           72.354661               73.902582\n",
       "\n",
       "[588 rows x 3 columns]"
      ]
     },
     "execution_count": 11,
     "metadata": {},
     "output_type": "execute_result"
    }
   ],
   "source": [
    "# Saving the predictions\n",
    "predictions = pd.DataFrame({\n",
    "    'Actual': y_test,\n",
    "    'Predicted (Linear)': y_pred,\n",
    "    'Predicted (Polynomial)': y_pred_poly\n",
    "})\n",
    "predictions\n",
    "#predictions.to_csv('predictions.csv', index=False)"
   ]
  },
  {
   "cell_type": "code",
   "execution_count": 12,
   "id": "cc163562",
   "metadata": {},
   "outputs": [
    {
     "data": {
      "application/vnd.microsoft.datawrangler.viewer.v0+json": {
       "columns": [
        {
         "name": "index",
         "rawType": "int64",
         "type": "integer"
        },
        {
         "name": "Model",
         "rawType": "object",
         "type": "string"
        },
        {
         "name": "MAE",
         "rawType": "float64",
         "type": "float"
        },
        {
         "name": "MSE",
         "rawType": "float64",
         "type": "float"
        },
        {
         "name": "R^2",
         "rawType": "float64",
         "type": "float"
        }
       ],
       "ref": "b3ed2534-c4a4-4139-8485-eb4edfd81e0d",
       "rows": [
        [
         "0",
         "Linear Regression",
         "3.071310366802024",
         "16.570754718340453",
         "0.8165392108101811"
        ],
        [
         "1",
         "Polynomial Regression",
         "2.0326493354496784",
         "8.872271082027392",
         "0.8975905497305768"
        ]
       ],
       "shape": {
        "columns": 4,
        "rows": 2
       }
      },
      "text/html": [
       "<div>\n",
       "<style scoped>\n",
       "    .dataframe tbody tr th:only-of-type {\n",
       "        vertical-align: middle;\n",
       "    }\n",
       "\n",
       "    .dataframe tbody tr th {\n",
       "        vertical-align: top;\n",
       "    }\n",
       "\n",
       "    .dataframe thead th {\n",
       "        text-align: right;\n",
       "    }\n",
       "</style>\n",
       "<table border=\"1\" class=\"dataframe\">\n",
       "  <thead>\n",
       "    <tr style=\"text-align: right;\">\n",
       "      <th></th>\n",
       "      <th>Model</th>\n",
       "      <th>MAE</th>\n",
       "      <th>MSE</th>\n",
       "      <th>R^2</th>\n",
       "    </tr>\n",
       "  </thead>\n",
       "  <tbody>\n",
       "    <tr>\n",
       "      <th>0</th>\n",
       "      <td>Linear Regression</td>\n",
       "      <td>3.071310</td>\n",
       "      <td>16.570755</td>\n",
       "      <td>0.816539</td>\n",
       "    </tr>\n",
       "    <tr>\n",
       "      <th>1</th>\n",
       "      <td>Polynomial Regression</td>\n",
       "      <td>2.032649</td>\n",
       "      <td>8.872271</td>\n",
       "      <td>0.897591</td>\n",
       "    </tr>\n",
       "  </tbody>\n",
       "</table>\n",
       "</div>"
      ],
      "text/plain": [
       "                   Model       MAE        MSE       R^2\n",
       "0      Linear Regression  3.071310  16.570755  0.816539\n",
       "1  Polynomial Regression  2.032649   8.872271  0.897591"
      ]
     },
     "execution_count": 12,
     "metadata": {},
     "output_type": "execute_result"
    }
   ],
   "source": [
    "# Linear Regression Vs Polynomial Regression Comparison matrix in MAE, MSE, and R^2\n",
    "comparison = pd.DataFrame({\n",
    "    'Model': ['Linear Regression', 'Polynomial Regression'],\n",
    "    'MAE': [mae, mae_poly],\n",
    "    'MSE': [mse, mse_poly],\n",
    "    'R^2': [r2, r2_poly]\n",
    "})\n",
    "comparison"
   ]
  },
  {
   "cell_type": "markdown",
   "id": "11cee8ff",
   "metadata": {},
   "source": [
    "### Save Model"
   ]
  },
  {
   "cell_type": "code",
   "execution_count": 13,
   "id": "d132e30f",
   "metadata": {},
   "outputs": [
    {
     "data": {
      "text/plain": [
       "['polynomial_regression_model.pkl']"
      ]
     },
     "execution_count": 13,
     "metadata": {},
     "output_type": "execute_result"
    }
   ],
   "source": [
    "import joblib\n",
    "joblib.dump(model, 'linear_regression_model.pkl')\n",
    "joblib.dump(poly_model, 'polynomial_regression_model.pkl')"
   ]
  },
  {
   "cell_type": "code",
   "execution_count": null,
   "id": "548eb8da",
   "metadata": {},
   "outputs": [],
   "source": [
    "# Making predictions with the model\n",
    "# y_pred = model.predict(X_test)\n",
    "# y_pred_poly = poly_model.predict(X_test_poly)"
   ]
  }
 ],
 "metadata": {
  "kernelspec": {
   "display_name": "Python 3",
   "language": "python",
   "name": "python3"
  },
  "language_info": {
   "codemirror_mode": {
    "name": "ipython",
    "version": 3
   },
   "file_extension": ".py",
   "mimetype": "text/x-python",
   "name": "python",
   "nbconvert_exporter": "python",
   "pygments_lexer": "ipython3",
   "version": "3.12.10"
  }
 },
 "nbformat": 4,
 "nbformat_minor": 5
}
