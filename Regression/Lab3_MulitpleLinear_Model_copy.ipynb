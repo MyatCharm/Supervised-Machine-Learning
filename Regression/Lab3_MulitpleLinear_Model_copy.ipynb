{
 "cells": [
  {
   "cell_type": "code",
   "execution_count": 42,
   "metadata": {},
   "outputs": [
    {
     "data": {
      "text/plain": [
       "(21600, 3)"
      ]
     },
     "execution_count": 42,
     "metadata": {},
     "output_type": "execute_result"
    }
   ],
   "source": [
    "import pandas as pd\n",
    "\n",
    "df=pd.read_csv('../data/house_data_fs.csv', index_col = 0)\n",
    "df = df.dropna()\n",
    "df.shape\n",
    "\n"
   ]
  },
  {
   "cell_type": "code",
   "execution_count": 43,
   "metadata": {},
   "outputs": [],
   "source": [
    "X = df[['bedrooms', 'sqft_living']].values\n",
    "Y = df['price'].values"
   ]
  },
  {
   "cell_type": "code",
   "execution_count": 44,
   "metadata": {},
   "outputs": [],
   "source": [
    "from sklearn.preprocessing import StandardScaler\n",
    "\n",
    "scaler = StandardScaler()\n",
    "X_scaled = scaler.fit_transform(X)"
   ]
  },
  {
   "cell_type": "code",
   "execution_count": 45,
   "metadata": {},
   "outputs": [],
   "source": [
    "# MinMaxScaler\n",
    "from sklearn.preprocessing import MinMaxScaler\n",
    "# Initialize MinMaxScaler and fit_transform the data    \n",
    "minmax_scaler = MinMaxScaler()\n",
    "X_minmax = minmax_scaler.fit_transform(X)\n"
   ]
  },
  {
   "cell_type": "code",
   "execution_count": 46,
   "metadata": {},
   "outputs": [],
   "source": [
    "# RobustScaler\n",
    "from sklearn.preprocessing import RobustScaler\n",
    "# Initialize RobustScaler and fit_transform the data\n",
    "robust_scaler = RobustScaler()\n",
    "X_robust = robust_scaler.fit_transform(X)\n"
   ]
  },
  {
   "cell_type": "code",
   "execution_count": 47,
   "metadata": {},
   "outputs": [
    {
     "name": "stdout",
     "output_type": "stream",
     "text": [
      "StandardScaler coefficients: [-53567.44561984 288667.55112691] intercept: 540166.7341666666\n",
      "MinMaxScaler coefficients: [-1849873.80338275  4140551.32075621] intercept: 139688.62060175056\n",
      "RobustScaler coefficients: [-57808.55635571 352355.57272115] intercept: 508236.2029521787\n"
     ]
    }
   ],
   "source": [
    "from sklearn.linear_model import LinearRegression\n",
    "\n",
    "# Fit and print coefficients/intercept for each scaled X and Y\n",
    "\n",
    "for X_scaled_variant, name in zip([X_scaled, X_minmax, X_robust], ['StandardScaler', 'MinMaxScaler', 'RobustScaler']):\n",
    "    lr_variant = LinearRegression()\n",
    "    lr_variant.fit(X_scaled_variant, Y)\n",
    "    print(f\"{name} coefficients:\", lr_variant.coef_, \"intercept:\", lr_variant.intercept_)"
   ]
  },
  {
   "cell_type": "code",
   "execution_count": 48,
   "metadata": {},
   "outputs": [],
   "source": [
    "# from sklearn.linear_model import LinearRegression\n",
    "\n",
    "# lr = LinearRegression()\n",
    "# lr.fit(X_scaled, Y)\n",
    "# print(lr.coef_, lr.intercept_)\n",
    "\n"
   ]
  },
  {
   "cell_type": "code",
   "execution_count": 56,
   "metadata": {},
   "outputs": [
    {
     "name": "stdout",
     "output_type": "stream",
     "text": [
      "StandardScaler prediction: [178123.91086455]\n",
      "MinMaxScaler prediction: [178123.91086455]\n",
      "RobustScaler prediction: [178123.91086456]\n"
     ]
    }
   ],
   "source": [
    "# Predict price for X_test using all three scalers and LinearRegression\n",
    "X_test = [[3, 860]]\n",
    "# StandardScaler\n",
    "X_test_scaled_standard = scaler.transform(X_test)\n",
    "yp_standard = lr.predict(X_test_scaled_standard)\n",
    "print(\"StandardScaler prediction:\", yp_standard)\n",
    "\n",
    "# MinMaxScaler\n",
    "X_test_scaled_minmax = minmax_scaler.transform(X_test)\n",
    "lr_minmax = LinearRegression()\n",
    "lr_minmax.fit(X_minmax, Y)\n",
    "yp_minmax = lr_minmax.predict(X_test_scaled_minmax)\n",
    "print(\"MinMaxScaler prediction:\", yp_minmax)\n",
    "\n",
    "# RobustScaler\n",
    "X_test_scaled_robust = robust_scaler.transform(X_test)\n",
    "lr_robust = LinearRegression()\n",
    "lr_robust.fit(X_robust, Y)\n",
    "yp_robust = lr_robust.predict(X_test_scaled_robust)\n",
    "print(\"RobustScaler prediction:\", yp_robust)"
   ]
  },
  {
   "cell_type": "code",
   "execution_count": 50,
   "metadata": {},
   "outputs": [],
   "source": [
    "# X_test = [[2, 860]]\n",
    "# X_test_scaled = scaler.transform(X_test)\n",
    "# yp=lr.predict(X_test_scaled)\n",
    "# print(yp)"
   ]
  },
  {
   "cell_type": "code",
   "execution_count": 51,
   "metadata": {},
   "outputs": [
    {
     "name": "stdout",
     "output_type": "stream",
     "text": [
      "Average price: 303760.2105263158\n"
     ]
    }
   ],
   "source": [
    "df1=df[(df['bedrooms'] == 2) & (df['sqft_living'] == 860)]\n",
    "df1_avg = df1['price'].mean()\n",
    "print(\"Average price:\", df1_avg)  \n",
    "\n"
   ]
  },
  {
   "cell_type": "code",
   "execution_count": 52,
   "metadata": {},
   "outputs": [
    {
     "name": "stdout",
     "output_type": "stream",
     "text": [
      "r2-score: 0.5068463227480232 \n",
      "mean squared error: 66465040515.6965 \n",
      "mean absolute error: 170271.0968122866\n",
      "\n",
      "r2-score: 0.06325850288138879 \n",
      "mean squared error: 126249817107.03268 \n",
      "mean absolute error: 234400.48395043836\n",
      "\n",
      "r2-score: 0.48407380060077 \n",
      "mean squared error: 69534218901.62268 \n",
      "mean absolute error: 172008.30525938616\n"
     ]
    }
   ],
   "source": [
    "from sklearn.metrics import r2_score\n",
    "from sklearn.metrics import mean_absolute_error\n",
    "from sklearn.metrics import mean_squared_error\n",
    "\n",
    "Y_pred_s = lr.predict(X_scaled)\n",
    "rscore = r2_score(Y, Y_pred_s)\n",
    "mse = mean_squared_error(Y, Y_pred_s)\n",
    "mae = mean_absolute_error(Y, Y_pred_s)\n",
    "\n",
    "print('r2-score:', rscore, '\\nmean squared error:', mse, '\\nmean absolute error:', mae)\n",
    "\n",
    "Y_pred_m = lr.predict(X_minmax)\n",
    "rscore = r2_score(Y, Y_pred_m)\n",
    "mse = mean_squared_error(Y, Y_pred_m)\n",
    "mae = mean_absolute_error(Y, Y_pred_m)\n",
    "\n",
    "print('\\nr2-score:', rscore, '\\nmean squared error:', mse, '\\nmean absolute error:', mae)\n",
    "\n",
    "Y_pred_r = lr.predict(X_robust)\n",
    "rscore = r2_score(Y, Y_pred_r)\n",
    "mse = mean_squared_error(Y, Y_pred_r)\n",
    "mae = mean_absolute_error(Y, Y_pred_r)\n",
    "\n",
    "print('\\nr2-score:', rscore, '\\nmean squared error:', mse, '\\nmean absolute error:', mae)"
   ]
  }
 ],
 "metadata": {
  "kernelspec": {
   "display_name": "Python 3",
   "language": "python",
   "name": "python3"
  },
  "language_info": {
   "codemirror_mode": {
    "name": "ipython",
    "version": 3
   },
   "file_extension": ".py",
   "mimetype": "text/x-python",
   "name": "python",
   "nbconvert_exporter": "python",
   "pygments_lexer": "ipython3",
   "version": "3.12.10"
  },
  "orig_nbformat": 4
 },
 "nbformat": 4,
 "nbformat_minor": 2
}
